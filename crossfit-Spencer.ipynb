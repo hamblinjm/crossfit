{
 "cells": [
  {
   "cell_type": "code",
   "execution_count": 1,
   "id": "cd214d56",
   "metadata": {},
   "outputs": [],
   "source": [
    "import pandas as pd"
   ]
  },
  {
   "cell_type": "code",
   "execution_count": 2,
   "id": "c2052481",
   "metadata": {},
   "outputs": [
    {
     "name": "stderr",
     "output_type": "stream",
     "text": [
      "/Users/spencerkimball/opt/anaconda3/lib/python3.8/site-packages/IPython/core/interactiveshell.py:3165: DtypeWarning: Columns (27) have mixed types.Specify dtype option on import or set low_memory=False.\n",
      "  has_raised = await self.run_ast_nodes(code_ast.body, cell_name,\n"
     ]
    },
    {
     "data": {
      "text/html": [
       "<div>\n",
       "<style scoped>\n",
       "    .dataframe tbody tr th:only-of-type {\n",
       "        vertical-align: middle;\n",
       "    }\n",
       "\n",
       "    .dataframe tbody tr th {\n",
       "        vertical-align: top;\n",
       "    }\n",
       "\n",
       "    .dataframe thead th {\n",
       "        text-align: right;\n",
       "    }\n",
       "</style>\n",
       "<table border=\"1\" class=\"dataframe\">\n",
       "  <thead>\n",
       "    <tr style=\"text-align: right;\">\n",
       "      <th></th>\n",
       "      <th>athlete_id</th>\n",
       "      <th>name</th>\n",
       "      <th>region</th>\n",
       "      <th>team</th>\n",
       "      <th>affiliate</th>\n",
       "      <th>gender</th>\n",
       "      <th>age</th>\n",
       "      <th>height</th>\n",
       "      <th>weight</th>\n",
       "      <th>fran</th>\n",
       "      <th>...</th>\n",
       "      <th>deadlift</th>\n",
       "      <th>backsq</th>\n",
       "      <th>pullups</th>\n",
       "      <th>eat</th>\n",
       "      <th>train</th>\n",
       "      <th>background</th>\n",
       "      <th>experience</th>\n",
       "      <th>schedule</th>\n",
       "      <th>howlong</th>\n",
       "      <th>retrieved_datetime</th>\n",
       "    </tr>\n",
       "  </thead>\n",
       "  <tbody>\n",
       "    <tr>\n",
       "      <th>0</th>\n",
       "      <td>2554.0</td>\n",
       "      <td>Pj Ablang</td>\n",
       "      <td>South West</td>\n",
       "      <td>Double Edge</td>\n",
       "      <td>Double Edge CrossFit</td>\n",
       "      <td>Male</td>\n",
       "      <td>24.0</td>\n",
       "      <td>70.0</td>\n",
       "      <td>166.0</td>\n",
       "      <td>NaN</td>\n",
       "      <td>...</td>\n",
       "      <td>400.0</td>\n",
       "      <td>305.0</td>\n",
       "      <td>NaN</td>\n",
       "      <td>NaN</td>\n",
       "      <td>I workout mostly at a CrossFit Affiliate|I hav...</td>\n",
       "      <td>I played youth or high school level sports|I r...</td>\n",
       "      <td>I began CrossFit with a coach (e.g. at an affi...</td>\n",
       "      <td>I do multiple workouts in a day 2x a week|</td>\n",
       "      <td>4+ years|</td>\n",
       "      <td>NaN</td>\n",
       "    </tr>\n",
       "    <tr>\n",
       "      <th>1</th>\n",
       "      <td>3517.0</td>\n",
       "      <td>Derek Abdella</td>\n",
       "      <td>NaN</td>\n",
       "      <td>NaN</td>\n",
       "      <td>NaN</td>\n",
       "      <td>Male</td>\n",
       "      <td>42.0</td>\n",
       "      <td>70.0</td>\n",
       "      <td>190.0</td>\n",
       "      <td>NaN</td>\n",
       "      <td>...</td>\n",
       "      <td>NaN</td>\n",
       "      <td>NaN</td>\n",
       "      <td>NaN</td>\n",
       "      <td>NaN</td>\n",
       "      <td>I have a coach who determines my programming|I...</td>\n",
       "      <td>I played youth or high school level sports|</td>\n",
       "      <td>I began CrossFit with a coach (e.g. at an affi...</td>\n",
       "      <td>I do multiple workouts in a day 2x a week|</td>\n",
       "      <td>4+ years|</td>\n",
       "      <td>NaN</td>\n",
       "    </tr>\n",
       "    <tr>\n",
       "      <th>2</th>\n",
       "      <td>4691.0</td>\n",
       "      <td>NaN</td>\n",
       "      <td>NaN</td>\n",
       "      <td>NaN</td>\n",
       "      <td>NaN</td>\n",
       "      <td>NaN</td>\n",
       "      <td>NaN</td>\n",
       "      <td>NaN</td>\n",
       "      <td>NaN</td>\n",
       "      <td>NaN</td>\n",
       "      <td>...</td>\n",
       "      <td>NaN</td>\n",
       "      <td>NaN</td>\n",
       "      <td>NaN</td>\n",
       "      <td>NaN</td>\n",
       "      <td>NaN</td>\n",
       "      <td>NaN</td>\n",
       "      <td>NaN</td>\n",
       "      <td>NaN</td>\n",
       "      <td>NaN</td>\n",
       "      <td>NaN</td>\n",
       "    </tr>\n",
       "    <tr>\n",
       "      <th>3</th>\n",
       "      <td>5164.0</td>\n",
       "      <td>Abo Brandon</td>\n",
       "      <td>Southern California</td>\n",
       "      <td>LAX CrossFit</td>\n",
       "      <td>LAX CrossFit</td>\n",
       "      <td>Male</td>\n",
       "      <td>40.0</td>\n",
       "      <td>67.0</td>\n",
       "      <td>NaN</td>\n",
       "      <td>211.0</td>\n",
       "      <td>...</td>\n",
       "      <td>375.0</td>\n",
       "      <td>325.0</td>\n",
       "      <td>25.0</td>\n",
       "      <td>I eat 1-3 full cheat meals per week|</td>\n",
       "      <td>I workout mostly at a CrossFit Affiliate|I hav...</td>\n",
       "      <td>I played youth or high school level sports|</td>\n",
       "      <td>I began CrossFit by trying it alone (without a...</td>\n",
       "      <td>I usually only do 1 workout a day|</td>\n",
       "      <td>4+ years|</td>\n",
       "      <td>NaN</td>\n",
       "    </tr>\n",
       "    <tr>\n",
       "      <th>4</th>\n",
       "      <td>5286.0</td>\n",
       "      <td>Bryce Abbey</td>\n",
       "      <td>NaN</td>\n",
       "      <td>NaN</td>\n",
       "      <td>NaN</td>\n",
       "      <td>Male</td>\n",
       "      <td>32.0</td>\n",
       "      <td>65.0</td>\n",
       "      <td>149.0</td>\n",
       "      <td>206.0</td>\n",
       "      <td>...</td>\n",
       "      <td>NaN</td>\n",
       "      <td>325.0</td>\n",
       "      <td>50.0</td>\n",
       "      <td>I eat quality foods but don't measure the amount|</td>\n",
       "      <td>I workout mostly at a CrossFit Affiliate|I inc...</td>\n",
       "      <td>I played college sports|</td>\n",
       "      <td>I began CrossFit by trying it alone (without a...</td>\n",
       "      <td>I usually only do 1 workout a day|I strictly s...</td>\n",
       "      <td>1-2 years|</td>\n",
       "      <td>NaN</td>\n",
       "    </tr>\n",
       "    <tr>\n",
       "      <th>...</th>\n",
       "      <td>...</td>\n",
       "      <td>...</td>\n",
       "      <td>...</td>\n",
       "      <td>...</td>\n",
       "      <td>...</td>\n",
       "      <td>...</td>\n",
       "      <td>...</td>\n",
       "      <td>...</td>\n",
       "      <td>...</td>\n",
       "      <td>...</td>\n",
       "      <td>...</td>\n",
       "      <td>...</td>\n",
       "      <td>...</td>\n",
       "      <td>...</td>\n",
       "      <td>...</td>\n",
       "      <td>...</td>\n",
       "      <td>...</td>\n",
       "      <td>...</td>\n",
       "      <td>...</td>\n",
       "      <td>...</td>\n",
       "      <td>...</td>\n",
       "    </tr>\n",
       "    <tr>\n",
       "      <th>423001</th>\n",
       "      <td>574489.0</td>\n",
       "      <td>Odo Renata</td>\n",
       "      <td>Latin America</td>\n",
       "      <td>Team Guarujá Inox</td>\n",
       "      <td>CrossFit Guaruja</td>\n",
       "      <td>Female</td>\n",
       "      <td>36.0</td>\n",
       "      <td>NaN</td>\n",
       "      <td>NaN</td>\n",
       "      <td>NaN</td>\n",
       "      <td>...</td>\n",
       "      <td>NaN</td>\n",
       "      <td>NaN</td>\n",
       "      <td>NaN</td>\n",
       "      <td>NaN</td>\n",
       "      <td>NaN</td>\n",
       "      <td>NaN</td>\n",
       "      <td>NaN</td>\n",
       "      <td>NaN</td>\n",
       "      <td>NaN</td>\n",
       "      <td>2015-03-25 09:55:05</td>\n",
       "    </tr>\n",
       "    <tr>\n",
       "      <th>423002</th>\n",
       "      <td>585696.0</td>\n",
       "      <td>Lozzie Trevor</td>\n",
       "      <td>Australia</td>\n",
       "      <td>FBP CrossFit Games Team</td>\n",
       "      <td>FBP CrossFit</td>\n",
       "      <td>Female</td>\n",
       "      <td>27.0</td>\n",
       "      <td>NaN</td>\n",
       "      <td>NaN</td>\n",
       "      <td>NaN</td>\n",
       "      <td>...</td>\n",
       "      <td>NaN</td>\n",
       "      <td>NaN</td>\n",
       "      <td>NaN</td>\n",
       "      <td>NaN</td>\n",
       "      <td>NaN</td>\n",
       "      <td>NaN</td>\n",
       "      <td>NaN</td>\n",
       "      <td>NaN</td>\n",
       "      <td>NaN</td>\n",
       "      <td>2015-03-25 09:55:06</td>\n",
       "    </tr>\n",
       "    <tr>\n",
       "      <th>423003</th>\n",
       "      <td>608828.0</td>\n",
       "      <td>Marisol Smith</td>\n",
       "      <td>North West</td>\n",
       "      <td>CrossFit Oak Harbor</td>\n",
       "      <td>CrossFit Oak Harbor</td>\n",
       "      <td>Female</td>\n",
       "      <td>44.0</td>\n",
       "      <td>NaN</td>\n",
       "      <td>NaN</td>\n",
       "      <td>NaN</td>\n",
       "      <td>...</td>\n",
       "      <td>NaN</td>\n",
       "      <td>NaN</td>\n",
       "      <td>NaN</td>\n",
       "      <td>NaN</td>\n",
       "      <td>NaN</td>\n",
       "      <td>NaN</td>\n",
       "      <td>NaN</td>\n",
       "      <td>NaN</td>\n",
       "      <td>NaN</td>\n",
       "      <td>2015-03-25 09:55:07</td>\n",
       "    </tr>\n",
       "    <tr>\n",
       "      <th>423004</th>\n",
       "      <td>628881.0</td>\n",
       "      <td>Pedrini Morgane</td>\n",
       "      <td>Europe</td>\n",
       "      <td>NaN</td>\n",
       "      <td>CrossFit 67</td>\n",
       "      <td>Female</td>\n",
       "      <td>20.0</td>\n",
       "      <td>64.0</td>\n",
       "      <td>61.0</td>\n",
       "      <td>NaN</td>\n",
       "      <td>...</td>\n",
       "      <td>80.0</td>\n",
       "      <td>143.0</td>\n",
       "      <td>NaN</td>\n",
       "      <td>I eat quality foods but don't measure the amount|</td>\n",
       "      <td>I workout mostly at a CrossFit Affiliate|</td>\n",
       "      <td>NaN</td>\n",
       "      <td>I began CrossFit with a coach (e.g. at an affi...</td>\n",
       "      <td>I usually only do 1 workout a day|I strictly s...</td>\n",
       "      <td>6-12 months|</td>\n",
       "      <td>2015-03-25 09:55:07</td>\n",
       "    </tr>\n",
       "    <tr>\n",
       "      <th>423005</th>\n",
       "      <td>631847.0</td>\n",
       "      <td>Eden Kenny</td>\n",
       "      <td>Northern California</td>\n",
       "      <td>NaN</td>\n",
       "      <td>Contra Costa CrossFit</td>\n",
       "      <td>Female</td>\n",
       "      <td>26.0</td>\n",
       "      <td>NaN</td>\n",
       "      <td>NaN</td>\n",
       "      <td>NaN</td>\n",
       "      <td>...</td>\n",
       "      <td>NaN</td>\n",
       "      <td>NaN</td>\n",
       "      <td>NaN</td>\n",
       "      <td>NaN</td>\n",
       "      <td>NaN</td>\n",
       "      <td>NaN</td>\n",
       "      <td>NaN</td>\n",
       "      <td>NaN</td>\n",
       "      <td>NaN</td>\n",
       "      <td>2015-03-25 09:55:08</td>\n",
       "    </tr>\n",
       "  </tbody>\n",
       "</table>\n",
       "<p>423006 rows × 28 columns</p>\n",
       "</div>"
      ],
      "text/plain": [
       "        athlete_id             name               region  \\\n",
       "0           2554.0        Pj Ablang           South West   \n",
       "1           3517.0    Derek Abdella                  NaN   \n",
       "2           4691.0              NaN                  NaN   \n",
       "3           5164.0      Abo Brandon  Southern California   \n",
       "4           5286.0      Bryce Abbey                  NaN   \n",
       "...            ...              ...                  ...   \n",
       "423001    574489.0       Odo Renata        Latin America   \n",
       "423002    585696.0    Lozzie Trevor            Australia   \n",
       "423003    608828.0    Marisol Smith           North West   \n",
       "423004    628881.0  Pedrini Morgane               Europe   \n",
       "423005    631847.0       Eden Kenny  Northern California   \n",
       "\n",
       "                           team              affiliate  gender   age  height  \\\n",
       "0                   Double Edge   Double Edge CrossFit    Male  24.0    70.0   \n",
       "1                           NaN                    NaN    Male  42.0    70.0   \n",
       "2                           NaN                    NaN     NaN   NaN     NaN   \n",
       "3                  LAX CrossFit           LAX CrossFit    Male  40.0    67.0   \n",
       "4                           NaN                    NaN    Male  32.0    65.0   \n",
       "...                         ...                    ...     ...   ...     ...   \n",
       "423001        Team Guarujá Inox       CrossFit Guaruja  Female  36.0     NaN   \n",
       "423002  FBP CrossFit Games Team           FBP CrossFit  Female  27.0     NaN   \n",
       "423003      CrossFit Oak Harbor    CrossFit Oak Harbor  Female  44.0     NaN   \n",
       "423004                      NaN            CrossFit 67  Female  20.0    64.0   \n",
       "423005                      NaN  Contra Costa CrossFit  Female  26.0     NaN   \n",
       "\n",
       "        weight   fran  ...  deadlift  backsq  pullups  \\\n",
       "0        166.0    NaN  ...     400.0   305.0      NaN   \n",
       "1        190.0    NaN  ...       NaN     NaN      NaN   \n",
       "2          NaN    NaN  ...       NaN     NaN      NaN   \n",
       "3          NaN  211.0  ...     375.0   325.0     25.0   \n",
       "4        149.0  206.0  ...       NaN   325.0     50.0   \n",
       "...        ...    ...  ...       ...     ...      ...   \n",
       "423001     NaN    NaN  ...       NaN     NaN      NaN   \n",
       "423002     NaN    NaN  ...       NaN     NaN      NaN   \n",
       "423003     NaN    NaN  ...       NaN     NaN      NaN   \n",
       "423004    61.0    NaN  ...      80.0   143.0      NaN   \n",
       "423005     NaN    NaN  ...       NaN     NaN      NaN   \n",
       "\n",
       "                                                      eat  \\\n",
       "0                                                     NaN   \n",
       "1                                                     NaN   \n",
       "2                                                     NaN   \n",
       "3                    I eat 1-3 full cheat meals per week|   \n",
       "4       I eat quality foods but don't measure the amount|   \n",
       "...                                                   ...   \n",
       "423001                                                NaN   \n",
       "423002                                                NaN   \n",
       "423003                                                NaN   \n",
       "423004  I eat quality foods but don't measure the amount|   \n",
       "423005                                                NaN   \n",
       "\n",
       "                                                    train  \\\n",
       "0       I workout mostly at a CrossFit Affiliate|I hav...   \n",
       "1       I have a coach who determines my programming|I...   \n",
       "2                                                     NaN   \n",
       "3       I workout mostly at a CrossFit Affiliate|I hav...   \n",
       "4       I workout mostly at a CrossFit Affiliate|I inc...   \n",
       "...                                                   ...   \n",
       "423001                                                NaN   \n",
       "423002                                                NaN   \n",
       "423003                                                NaN   \n",
       "423004          I workout mostly at a CrossFit Affiliate|   \n",
       "423005                                                NaN   \n",
       "\n",
       "                                               background  \\\n",
       "0       I played youth or high school level sports|I r...   \n",
       "1             I played youth or high school level sports|   \n",
       "2                                                     NaN   \n",
       "3             I played youth or high school level sports|   \n",
       "4                                I played college sports|   \n",
       "...                                                   ...   \n",
       "423001                                                NaN   \n",
       "423002                                                NaN   \n",
       "423003                                                NaN   \n",
       "423004                                                NaN   \n",
       "423005                                                NaN   \n",
       "\n",
       "                                               experience  \\\n",
       "0       I began CrossFit with a coach (e.g. at an affi...   \n",
       "1       I began CrossFit with a coach (e.g. at an affi...   \n",
       "2                                                     NaN   \n",
       "3       I began CrossFit by trying it alone (without a...   \n",
       "4       I began CrossFit by trying it alone (without a...   \n",
       "...                                                   ...   \n",
       "423001                                                NaN   \n",
       "423002                                                NaN   \n",
       "423003                                                NaN   \n",
       "423004  I began CrossFit with a coach (e.g. at an affi...   \n",
       "423005                                                NaN   \n",
       "\n",
       "                                                 schedule       howlong  \\\n",
       "0              I do multiple workouts in a day 2x a week|     4+ years|   \n",
       "1              I do multiple workouts in a day 2x a week|     4+ years|   \n",
       "2                                                     NaN           NaN   \n",
       "3                      I usually only do 1 workout a day|     4+ years|   \n",
       "4       I usually only do 1 workout a day|I strictly s...    1-2 years|   \n",
       "...                                                   ...           ...   \n",
       "423001                                                NaN           NaN   \n",
       "423002                                                NaN           NaN   \n",
       "423003                                                NaN           NaN   \n",
       "423004  I usually only do 1 workout a day|I strictly s...  6-12 months|   \n",
       "423005                                                NaN           NaN   \n",
       "\n",
       "         retrieved_datetime  \n",
       "0                       NaN  \n",
       "1                       NaN  \n",
       "2                       NaN  \n",
       "3                       NaN  \n",
       "4                       NaN  \n",
       "...                     ...  \n",
       "423001  2015-03-25 09:55:05  \n",
       "423002  2015-03-25 09:55:06  \n",
       "423003  2015-03-25 09:55:07  \n",
       "423004  2015-03-25 09:55:07  \n",
       "423005  2015-03-25 09:55:08  \n",
       "\n",
       "[423006 rows x 28 columns]"
      ]
     },
     "execution_count": 2,
     "metadata": {},
     "output_type": "execute_result"
    }
   ],
   "source": [
    "athletes = pd.read_csv(\"bgadoci-crossfit-data/athletes.csv\")\n",
    "athletes"
   ]
  },
  {
   "cell_type": "markdown",
   "id": "e1f572f7",
   "metadata": {},
   "source": [
    "## Braden's Preprocessing Section - Join Data and Filter Columns"
   ]
  },
  {
   "cell_type": "code",
   "execution_count": 3,
   "id": "831b174f",
   "metadata": {},
   "outputs": [],
   "source": [
    "# First need to read in the leader dataset\n",
    "leader = pd.read_csv(\"bgadoci-crossfit-data/leaderboard.15.csv\")"
   ]
  },
  {
   "cell_type": "code",
   "execution_count": 4,
   "id": "dde93e34",
   "metadata": {},
   "outputs": [
    {
     "data": {
      "text/html": [
       "<div>\n",
       "<style scoped>\n",
       "    .dataframe tbody tr th:only-of-type {\n",
       "        vertical-align: middle;\n",
       "    }\n",
       "\n",
       "    .dataframe tbody tr th {\n",
       "        vertical-align: top;\n",
       "    }\n",
       "\n",
       "    .dataframe thead th {\n",
       "        text-align: right;\n",
       "    }\n",
       "</style>\n",
       "<table border=\"1\" class=\"dataframe\">\n",
       "  <thead>\n",
       "    <tr style=\"text-align: right;\">\n",
       "      <th></th>\n",
       "      <th>athlete_id</th>\n",
       "      <th>name</th>\n",
       "      <th>region</th>\n",
       "      <th>team</th>\n",
       "      <th>affiliate</th>\n",
       "      <th>gender</th>\n",
       "      <th>age</th>\n",
       "      <th>height</th>\n",
       "      <th>weight</th>\n",
       "      <th>fran</th>\n",
       "      <th>...</th>\n",
       "      <th>schedule</th>\n",
       "      <th>howlong</th>\n",
       "      <th>retrieved_datetime_x</th>\n",
       "      <th>year</th>\n",
       "      <th>division</th>\n",
       "      <th>stage</th>\n",
       "      <th>rank</th>\n",
       "      <th>score</th>\n",
       "      <th>retrieved_datetime_y</th>\n",
       "      <th>scaled</th>\n",
       "    </tr>\n",
       "  </thead>\n",
       "  <tbody>\n",
       "    <tr>\n",
       "      <th>0</th>\n",
       "      <td>2554.0</td>\n",
       "      <td>Pj Ablang</td>\n",
       "      <td>South West</td>\n",
       "      <td>Double Edge</td>\n",
       "      <td>Double Edge CrossFit</td>\n",
       "      <td>Male</td>\n",
       "      <td>24.0</td>\n",
       "      <td>70.0</td>\n",
       "      <td>166.0</td>\n",
       "      <td>NaN</td>\n",
       "      <td>...</td>\n",
       "      <td>I do multiple workouts in a day 2x a week|</td>\n",
       "      <td>4+ years|</td>\n",
       "      <td>NaN</td>\n",
       "      <td>15</td>\n",
       "      <td>1</td>\n",
       "      <td>5.0</td>\n",
       "      <td>44119.0</td>\n",
       "      <td>771.0</td>\n",
       "      <td>2015-03-31 21:47:26</td>\n",
       "      <td>0</td>\n",
       "    </tr>\n",
       "    <tr>\n",
       "      <th>1</th>\n",
       "      <td>2554.0</td>\n",
       "      <td>Pj Ablang</td>\n",
       "      <td>South West</td>\n",
       "      <td>Double Edge</td>\n",
       "      <td>Double Edge CrossFit</td>\n",
       "      <td>Male</td>\n",
       "      <td>24.0</td>\n",
       "      <td>70.0</td>\n",
       "      <td>166.0</td>\n",
       "      <td>NaN</td>\n",
       "      <td>...</td>\n",
       "      <td>I do multiple workouts in a day 2x a week|</td>\n",
       "      <td>4+ years|</td>\n",
       "      <td>NaN</td>\n",
       "      <td>15</td>\n",
       "      <td>1</td>\n",
       "      <td>1.0</td>\n",
       "      <td>43966.0</td>\n",
       "      <td>130.0</td>\n",
       "      <td>2015-03-31 23:02:54</td>\n",
       "      <td>0</td>\n",
       "    </tr>\n",
       "    <tr>\n",
       "      <th>2</th>\n",
       "      <td>2554.0</td>\n",
       "      <td>Pj Ablang</td>\n",
       "      <td>South West</td>\n",
       "      <td>Double Edge</td>\n",
       "      <td>Double Edge CrossFit</td>\n",
       "      <td>Male</td>\n",
       "      <td>24.0</td>\n",
       "      <td>70.0</td>\n",
       "      <td>166.0</td>\n",
       "      <td>NaN</td>\n",
       "      <td>...</td>\n",
       "      <td>I do multiple workouts in a day 2x a week|</td>\n",
       "      <td>4+ years|</td>\n",
       "      <td>NaN</td>\n",
       "      <td>15</td>\n",
       "      <td>1</td>\n",
       "      <td>1.1</td>\n",
       "      <td>32461.0</td>\n",
       "      <td>225.0</td>\n",
       "      <td>2015-03-31 23:30:57</td>\n",
       "      <td>0</td>\n",
       "    </tr>\n",
       "    <tr>\n",
       "      <th>3</th>\n",
       "      <td>2554.0</td>\n",
       "      <td>Pj Ablang</td>\n",
       "      <td>South West</td>\n",
       "      <td>Double Edge</td>\n",
       "      <td>Double Edge CrossFit</td>\n",
       "      <td>Male</td>\n",
       "      <td>24.0</td>\n",
       "      <td>70.0</td>\n",
       "      <td>166.0</td>\n",
       "      <td>NaN</td>\n",
       "      <td>...</td>\n",
       "      <td>I do multiple workouts in a day 2x a week|</td>\n",
       "      <td>4+ years|</td>\n",
       "      <td>NaN</td>\n",
       "      <td>15</td>\n",
       "      <td>1</td>\n",
       "      <td>2.0</td>\n",
       "      <td>58455.0</td>\n",
       "      <td>78.0</td>\n",
       "      <td>2015-03-31 23:53:31</td>\n",
       "      <td>0</td>\n",
       "    </tr>\n",
       "    <tr>\n",
       "      <th>4</th>\n",
       "      <td>2554.0</td>\n",
       "      <td>Pj Ablang</td>\n",
       "      <td>South West</td>\n",
       "      <td>Double Edge</td>\n",
       "      <td>Double Edge CrossFit</td>\n",
       "      <td>Male</td>\n",
       "      <td>24.0</td>\n",
       "      <td>70.0</td>\n",
       "      <td>166.0</td>\n",
       "      <td>NaN</td>\n",
       "      <td>...</td>\n",
       "      <td>I do multiple workouts in a day 2x a week|</td>\n",
       "      <td>4+ years|</td>\n",
       "      <td>NaN</td>\n",
       "      <td>15</td>\n",
       "      <td>1</td>\n",
       "      <td>3.0</td>\n",
       "      <td>30179.0</td>\n",
       "      <td>314.0</td>\n",
       "      <td>2015-04-01 00:27:51</td>\n",
       "      <td>0</td>\n",
       "    </tr>\n",
       "  </tbody>\n",
       "</table>\n",
       "<p>5 rows × 35 columns</p>\n",
       "</div>"
      ],
      "text/plain": [
       "   athlete_id       name      region         team             affiliate  \\\n",
       "0      2554.0  Pj Ablang  South West  Double Edge  Double Edge CrossFit   \n",
       "1      2554.0  Pj Ablang  South West  Double Edge  Double Edge CrossFit   \n",
       "2      2554.0  Pj Ablang  South West  Double Edge  Double Edge CrossFit   \n",
       "3      2554.0  Pj Ablang  South West  Double Edge  Double Edge CrossFit   \n",
       "4      2554.0  Pj Ablang  South West  Double Edge  Double Edge CrossFit   \n",
       "\n",
       "  gender   age  height  weight  fran  ...  \\\n",
       "0   Male  24.0    70.0   166.0   NaN  ...   \n",
       "1   Male  24.0    70.0   166.0   NaN  ...   \n",
       "2   Male  24.0    70.0   166.0   NaN  ...   \n",
       "3   Male  24.0    70.0   166.0   NaN  ...   \n",
       "4   Male  24.0    70.0   166.0   NaN  ...   \n",
       "\n",
       "                                     schedule    howlong  \\\n",
       "0  I do multiple workouts in a day 2x a week|  4+ years|   \n",
       "1  I do multiple workouts in a day 2x a week|  4+ years|   \n",
       "2  I do multiple workouts in a day 2x a week|  4+ years|   \n",
       "3  I do multiple workouts in a day 2x a week|  4+ years|   \n",
       "4  I do multiple workouts in a day 2x a week|  4+ years|   \n",
       "\n",
       "   retrieved_datetime_x  year  division  stage     rank  score  \\\n",
       "0                   NaN    15         1    5.0  44119.0  771.0   \n",
       "1                   NaN    15         1    1.0  43966.0  130.0   \n",
       "2                   NaN    15         1    1.1  32461.0  225.0   \n",
       "3                   NaN    15         1    2.0  58455.0   78.0   \n",
       "4                   NaN    15         1    3.0  30179.0  314.0   \n",
       "\n",
       "   retrieved_datetime_y  scaled  \n",
       "0   2015-03-31 21:47:26       0  \n",
       "1   2015-03-31 23:02:54       0  \n",
       "2   2015-03-31 23:30:57       0  \n",
       "3   2015-03-31 23:53:31       0  \n",
       "4   2015-04-01 00:27:51       0  \n",
       "\n",
       "[5 rows x 35 columns]"
      ]
     },
     "execution_count": 4,
     "metadata": {},
     "output_type": "execute_result"
    }
   ],
   "source": [
    "# Join on athlete ID\n",
    "df = pd.merge(athletes, leader, on='athlete_id', how='inner')\n",
    "# Make sure it looks okay\n",
    "df.head()"
   ]
  },
  {
   "cell_type": "code",
   "execution_count": 5,
   "id": "6be3aab7",
   "metadata": {},
   "outputs": [
    {
     "data": {
      "text/plain": [
       "athlete_id               679\n",
       "name                     679\n",
       "region                    17\n",
       "team                     574\n",
       "affiliate                567\n",
       "gender                     2\n",
       "age                       38\n",
       "height                    23\n",
       "weight                   120\n",
       "fran                     313\n",
       "helen                    335\n",
       "grace                    270\n",
       "filthy50                 503\n",
       "fgonebad                 247\n",
       "run400                    95\n",
       "run5k                    381\n",
       "candj                    120\n",
       "snatch                   113\n",
       "deadlift                 141\n",
       "backsq                   133\n",
       "pullups                   80\n",
       "eat                       23\n",
       "train                     45\n",
       "background                18\n",
       "experience                43\n",
       "schedule                  51\n",
       "howlong                   12\n",
       "retrieved_datetime_x     675\n",
       "year                       1\n",
       "division                   2\n",
       "stage                      6\n",
       "rank                    2427\n",
       "score                    775\n",
       "retrieved_datetime_y    2211\n",
       "scaled                     2\n",
       "dtype: int64"
      ]
     },
     "execution_count": 5,
     "metadata": {},
     "output_type": "execute_result"
    }
   ],
   "source": [
    "# Drop all of our na's and check for unique values in each column\n",
    "testing = df.dropna()\n",
    "testing.nunique()"
   ]
  },
  {
   "cell_type": "markdown",
   "id": "51d407cf",
   "metadata": {},
   "source": [
    "NOTE: We noticed in our EDA that several variables had absurd responses: 800,000 pullups, 5,000 lb. back squat etc... So we used our best judgement to determine where the cutoff for a reasonable score on each continuous variable might be."
   ]
  },
  {
   "cell_type": "code",
   "execution_count": 6,
   "id": "cfffce61",
   "metadata": {},
   "outputs": [
    {
     "name": "stdout",
     "output_type": "stream",
     "text": [
      "3802\n"
     ]
    }
   ],
   "source": [
    "# How many rows we have before\n",
    "print(len(testing))"
   ]
  },
  {
   "cell_type": "code",
   "execution_count": 7,
   "id": "a8b9bd01",
   "metadata": {},
   "outputs": [],
   "source": [
    "# Filtered Dataframes\n",
    "testing = testing[testing['fran'] < 1250]\n",
    "testing = testing[testing['helen'] < 2000]\n",
    "testing = testing[testing['grace'] < 1000]\n",
    "testing = testing[testing['filthy50'] < 4000]\n",
    "testing = testing[testing['fgonebad'] < 625]\n",
    "testing = testing[testing['run400'] < 200]\n",
    "testing = testing[testing['run5k'] < 3000]\n",
    "testing = testing[testing['candj'] < 500]\n",
    "testing = testing[testing['snatch'] < 350]\n",
    "testing = testing[testing['deadlift'] < 750]\n",
    "testing = testing[testing['backsq'] < 750]\n",
    "testing = testing[testing['pullups'] < 74]\n"
   ]
  },
  {
   "cell_type": "code",
   "execution_count": 8,
   "id": "caf9077a",
   "metadata": {},
   "outputs": [
    {
     "name": "stdout",
     "output_type": "stream",
     "text": [
      "3625\n"
     ]
    }
   ],
   "source": [
    "# Number of rows now\n",
    "print(len(testing))"
   ]
  },
  {
   "cell_type": "markdown",
   "id": "474ba5b6",
   "metadata": {},
   "source": [
    "3802\n",
    "3625"
   ]
  },
  {
   "cell_type": "code",
   "execution_count": 9,
   "id": "8a9bc3c6",
   "metadata": {},
   "outputs": [
    {
     "data": {
      "text/plain": [
       "<AxesSubplot:>"
      ]
     },
     "execution_count": 9,
     "metadata": {},
     "output_type": "execute_result"
    },
    {
     "data": {
      "image/png": "[encoded data removed]",
      "text/plain": [
       "<Figure size 432x288 with 1 Axes>"
      ]
     },
     "metadata": {
      "needs_background": "light"
     },
     "output_type": "display_data"
    }
   ],
   "source": [
    "# Histogram to illustrate the distribution looks okay \n",
    "testing.fran.hist(bins = 20)\n",
    "\n"
   ]
  },
  {
   "cell_type": "code",
   "execution_count": 10,
   "id": "a25cc304",
   "metadata": {},
   "outputs": [],
   "source": [
    "#athletes.eat.unique()"
   ]
  },
  {
   "cell_type": "markdown",
   "id": "3c9bebc3",
   "metadata": {},
   "source": [
    "Possible values for eat:\n",
    "* I eat quality foods but don't measure the amount\n",
    "* I eat strict Paleo\n",
    "* I eat 1-3 full cheat meals per week\n",
    "* I eat whatever is convenient\n",
    "* I weigh and measure my food"
   ]
  },
  {
   "cell_type": "code",
   "execution_count": null,
   "id": "4e7d3ca8",
   "metadata": {},
   "outputs": [],
   "source": []
  },
  {
   "cell_type": "code",
   "execution_count": 11,
   "id": "707b6636",
   "metadata": {},
   "outputs": [],
   "source": [
    "#athletes.train.unique()"
   ]
  },
  {
   "cell_type": "markdown",
   "id": "e2ce4822",
   "metadata": {},
   "source": [
    "Possible values for train:\n",
    "* I workout mostly at a CrossFit Affiliate\n",
    "* I have a coach who determines my programming\n",
    "* I record my workouts\n",
    "* I incorporate CrossFit.com workouts\n",
    "* I write my own programming\n",
    "* I workout mostly at home, work, or a traditional gym\n",
    "\n"
   ]
  },
  {
   "cell_type": "code",
   "execution_count": 12,
   "id": "ae36ab23",
   "metadata": {},
   "outputs": [],
   "source": [
    "import numpy as np\n",
    "athletes = testing"
   ]
  },
  {
   "cell_type": "code",
   "execution_count": 13,
   "id": "a23d8df9",
   "metadata": {},
   "outputs": [],
   "source": [
    "# calculate dummies for train column\n",
    "athletes = athletes.dropna()\n",
    "a = athletes[\"train\"].str.split('|').explode().to_frame()\n",
    "cols = a[\"train\"].drop_duplicates(keep='first').tolist()\n",
    "\n",
    "athletes = pd.concat([athletes, pd.crosstab(a.index, a[\"train\"])[cols]], axis=1)\n",
    "\n",
    "athletes.drop('train', axis=1, inplace=True)    \n",
    "athletes.drop('', axis=1, inplace=True)\n",
    "#athletes"
   ]
  },
  {
   "cell_type": "code",
   "execution_count": 14,
   "id": "96649755",
   "metadata": {},
   "outputs": [],
   "source": [
    "# calculate dummies for background column\n",
    "a = athletes[\"background\"].str.split('|').explode().to_frame()\n",
    "cols = a[\"background\"].drop_duplicates(keep='first').tolist()\n",
    "\n",
    "athletes = pd.concat([athletes, pd.crosstab(a.index, a[\"background\"])[cols]], axis=1)\n",
    "\n",
    "athletes.drop('background', axis=1, inplace=True)    \n",
    "athletes.drop('', axis=1, inplace=True)\n",
    "#athletes\n"
   ]
  },
  {
   "cell_type": "code",
   "execution_count": 15,
   "id": "0df4e32a",
   "metadata": {},
   "outputs": [],
   "source": [
    "# calculate dummies for experience column\n",
    "a = athletes[\"experience\"].str.split('|').explode().to_frame()\n",
    "cols = a[\"experience\"].drop_duplicates(keep='first').tolist()\n",
    "\n",
    "athletes = pd.concat([athletes, pd.crosstab(a.index, a[\"experience\"])[cols]], axis=1)\n",
    "\n",
    "athletes.drop('experience', axis=1, inplace=True)    \n",
    "athletes.drop('', axis=1, inplace=True)\n",
    "#athletes"
   ]
  },
  {
   "cell_type": "code",
   "execution_count": 16,
   "id": "ad74520a",
   "metadata": {},
   "outputs": [],
   "source": [
    "# calculate dummies for schedule column\n",
    "a = athletes[\"schedule\"].str.split('|').explode().to_frame()\n",
    "cols = a[\"schedule\"].drop_duplicates(keep='first').tolist()\n",
    "\n",
    "athletes = pd.concat([athletes, pd.crosstab(a.index, a[\"schedule\"])[cols]], axis=1)\n",
    "\n",
    "athletes.drop('schedule', axis=1, inplace=True)    \n",
    "athletes.drop('', axis=1, inplace=True)\n",
    "#athletes"
   ]
  },
  {
   "cell_type": "code",
   "execution_count": null,
   "id": "072579c6",
   "metadata": {},
   "outputs": [],
   "source": []
  },
  {
   "cell_type": "code",
   "execution_count": null,
   "id": "bf82d2cd",
   "metadata": {},
   "outputs": [],
   "source": []
  },
  {
   "cell_type": "code",
   "execution_count": 17,
   "id": "4634b5fa",
   "metadata": {},
   "outputs": [],
   "source": [
    "#athletes.background.unique()"
   ]
  },
  {
   "cell_type": "markdown",
   "id": "bef682f3",
   "metadata": {},
   "source": [
    "Possible values for background:\n",
    "* I played youth or high school level sports\n",
    "* I regularly play recreational sports\n",
    "* I played college sports\n",
    "* I have no athletic background besides CrossFit\n",
    "* I played professional sports"
   ]
  },
  {
   "cell_type": "code",
   "execution_count": 18,
   "id": "3e099220",
   "metadata": {},
   "outputs": [],
   "source": [
    "#athletes.experience.unique()"
   ]
  },
  {
   "cell_type": "markdown",
   "id": "cd2af1d8",
   "metadata": {},
   "source": [
    "Possible values for experience: \n",
    "* I began CrossFit with a coach (e.g. at an affiliate)\n",
    "* I have attended one or more specialty courses\n",
    "* I have had a life changing experience due to CrossFit\n",
    "* I began CrossFit by trying it alone (without a coach)\n",
    "* I have completed the CrossFit Level 1 certificate course\n",
    "* I train other people\n"
   ]
  },
  {
   "cell_type": "code",
   "execution_count": 19,
   "id": "669b7d88",
   "metadata": {},
   "outputs": [],
   "source": [
    "#athletes.schedule.unique()"
   ]
  },
  {
   "cell_type": "markdown",
   "id": "e750b015",
   "metadata": {},
   "source": [
    "Possible values for schedule:\n",
    "* I do multiple workouts in a day 2x a week\n",
    "* I usually only do 1 workout a day\n",
    "* I strictly schedule my rest days\n",
    "* I typically rest 4 or more days per month\n",
    "* I do multiple workouts in a day 3+ times a week\n",
    "* I typically rest fewer than 4 days per month\n",
    "* I do multiple workouts in a day 1x a week"
   ]
  },
  {
   "cell_type": "code",
   "execution_count": 20,
   "id": "9962ffeb",
   "metadata": {},
   "outputs": [],
   "source": [
    "#athletes.howlong.unique()"
   ]
  },
  {
   "cell_type": "code",
   "execution_count": 21,
   "id": "f9b1fd97",
   "metadata": {},
   "outputs": [],
   "source": [
    "#athletes.age.describe()\n",
    "#athletes.height.describe()\n",
    "#athletes.weight.describe()\n",
    "#athletes.fran.describe()\n",
    "#athletes.helen.describe()\n",
    "#athletes.grace.describe()\n",
    "#athletes.filthy50.describe()\n",
    "#athletes.fgonebad.describe()\n",
    "#athletes.run400.describe()\n",
    "#athletes.run5k.describe()\n",
    "#athletes.candj.describe()\n",
    "#athletes.snatch.describe()\n",
    "#athletes.deadlift.describe()\n",
    "#athletes.backsq.describe()\n",
    "#athletes.pullups.describe()"
   ]
  },
  {
   "cell_type": "code",
   "execution_count": null,
   "id": "648115f3",
   "metadata": {},
   "outputs": [],
   "source": []
  },
  {
   "cell_type": "code",
   "execution_count": null,
   "id": "3a621fe5",
   "metadata": {},
   "outputs": [],
   "source": []
  },
  {
   "cell_type": "code",
   "execution_count": null,
   "id": "9cf02b4f",
   "metadata": {},
   "outputs": [],
   "source": []
  },
  {
   "cell_type": "code",
   "execution_count": null,
   "id": "14c2fd41",
   "metadata": {},
   "outputs": [],
   "source": []
  },
  {
   "cell_type": "code",
   "execution_count": null,
   "id": "35944497",
   "metadata": {},
   "outputs": [],
   "source": []
  },
  {
   "cell_type": "markdown",
   "id": "ea54a98b",
   "metadata": {},
   "source": [
    "Decision tree model"
   ]
  },
  {
   "cell_type": "code",
   "execution_count": 22,
   "id": "a008b527",
   "metadata": {},
   "outputs": [],
   "source": [
    "from sklearn.tree import DecisionTreeRegressor\n",
    "from sklearn.model_selection import GridSearchCV\n",
    "from sklearn.preprocessing import StandardScaler, PolynomialFeatures\n",
    "from sklearn.pipeline import make_pipeline, Pipeline\n",
    "from sklearn.model_selection import train_test_split, cross_val_score\n",
    "import seaborn as sns\n",
    "from sklearn.metrics import mean_squared_error, r2_score\n",
    "from sklearn.neighbors import KNeighborsRegressor\n",
    "from sklearn.preprocessing import LabelEncoder, OneHotEncoder\n",
    "import numpy as np\n",
    "from math import sqrt"
   ]
  },
  {
   "cell_type": "code",
   "execution_count": 23,
   "id": "f741641c",
   "metadata": {},
   "outputs": [],
   "source": [
    "# split train and test\n",
    "# done above"
   ]
  },
  {
   "cell_type": "code",
   "execution_count": 24,
   "id": "144b4848",
   "metadata": {},
   "outputs": [],
   "source": [
    "def PipeTree(max_depth=None):\n",
    "    return make_pipeline(StandardScaler(),\n",
    "                         DecisionTreeRegressor(max_depth=6, random_state=0))"
   ]
  },
  {
   "cell_type": "code",
   "execution_count": 25,
   "id": "ed68e012",
   "metadata": {},
   "outputs": [
    {
     "ename": "NameError",
     "evalue": "name 'X_train' is not defined",
     "output_type": "error",
     "traceback": [
      "\u001b[0;31m---------------------------------------------------------------------------\u001b[0m",
      "\u001b[0;31mNameError\u001b[0m                                 Traceback (most recent call last)",
      "\u001b[0;32m<ipython-input-25-e1f5723b3f15>\u001b[0m in \u001b[0;36m<module>\u001b[0;34m\u001b[0m\n\u001b[1;32m      1\u001b[0m \u001b[0mpipe\u001b[0m \u001b[0;34m=\u001b[0m \u001b[0mPipeTree\u001b[0m\u001b[0;34m(\u001b[0m\u001b[0;34m)\u001b[0m\u001b[0;34m\u001b[0m\u001b[0;34m\u001b[0m\u001b[0m\n\u001b[0;32m----> 2\u001b[0;31m \u001b[0mpipe\u001b[0m\u001b[0;34m.\u001b[0m\u001b[0mfit\u001b[0m\u001b[0;34m(\u001b[0m\u001b[0mX_train\u001b[0m\u001b[0;34m,\u001b[0m\u001b[0my_train\u001b[0m\u001b[0;34m)\u001b[0m\u001b[0;34m\u001b[0m\u001b[0;34m\u001b[0m\u001b[0m\n\u001b[0m",
      "\u001b[0;31mNameError\u001b[0m: name 'X_train' is not defined"
     ]
    }
   ],
   "source": [
    "pipe = PipeTree()\n",
    "pipe.fit(X_train,y_train)"
   ]
  },
  {
   "cell_type": "code",
   "execution_count": null,
   "id": "9a9b53d9",
   "metadata": {},
   "outputs": [],
   "source": [
    "pipe = PipeTree(max_depth=5)\n",
    "pipe.fit(X_train,y_train)"
   ]
  },
  {
   "cell_type": "code",
   "execution_count": null,
   "id": "499bf5c5",
   "metadata": {},
   "outputs": [],
   "source": [
    "pipe = PipeTree(max_depth=3)\n",
    "pipe.fit(X_train,y_train)"
   ]
  },
  {
   "cell_type": "code",
   "execution_count": null,
   "id": "074bffeb",
   "metadata": {},
   "outputs": [],
   "source": [
    "pipe.named_steps"
   ]
  },
  {
   "cell_type": "code",
   "execution_count": null,
   "id": "47abc598",
   "metadata": {},
   "outputs": [],
   "source": [
    "# takes a long time to run (3-5 minutes)\n",
    "param_grid = [{'decisiontreeregressor__max_depth': list(np.arange(1,50))},\n",
    "             {'decisiontreeregressor__min_samples_leaf': list(np.arange(1,20))}] \n",
    "gs = GridSearchCV(pipe, param_grid, scoring='neg_mean_squared_error')\n",
    "gs.fit(X_train, y_train)\n",
    "gs.best_params_"
   ]
  },
  {
   "cell_type": "code",
   "execution_count": null,
   "id": "8a1f8e4e",
   "metadata": {},
   "outputs": [],
   "source": [
    "pipe = PipeTree(max_depth=16)\n",
    "pipe.fit(X_train,y_train)\n",
    "\n"
   ]
  },
  {
   "cell_type": "code",
   "execution_count": null,
   "id": "2c485b19",
   "metadata": {},
   "outputs": [],
   "source": [
    "y_hat = pipe.predict(X_test)\n",
    "mse = mean_squared_error(y_test, y_hat)\n",
    "mse\n",
    "#yikes"
   ]
  },
  {
   "cell_type": "markdown",
   "id": "5542d13d",
   "metadata": {},
   "source": [
    "bagging"
   ]
  },
  {
   "cell_type": "code",
   "execution_count": null,
   "id": "1644ec25",
   "metadata": {},
   "outputs": [],
   "source": []
  },
  {
   "cell_type": "code",
   "execution_count": null,
   "id": "e8dc9635",
   "metadata": {},
   "outputs": [],
   "source": []
  },
  {
   "cell_type": "code",
   "execution_count": null,
   "id": "293e3812",
   "metadata": {},
   "outputs": [],
   "source": []
  },
  {
   "cell_type": "code",
   "execution_count": null,
   "id": "35ed78da",
   "metadata": {},
   "outputs": [],
   "source": []
  },
  {
   "cell_type": "code",
   "execution_count": null,
   "id": "666e65da",
   "metadata": {},
   "outputs": [],
   "source": []
  },
  {
   "cell_type": "code",
   "execution_count": null,
   "id": "1d04abf0",
   "metadata": {},
   "outputs": [],
   "source": []
  },
  {
   "cell_type": "code",
   "execution_count": null,
   "id": "3f13d36b",
   "metadata": {},
   "outputs": [],
   "source": []
  },
  {
   "cell_type": "markdown",
   "id": "e27d7fe0",
   "metadata": {},
   "source": [
    "knn"
   ]
  },
  {
   "cell_type": "code",
   "execution_count": 28,
   "id": "8386781e",
   "metadata": {},
   "outputs": [],
   "source": [
    "# calculate dummies for eat column\n",
    "a = athletes[\"eat\"].str.split('|').explode().to_frame()\n",
    "cols = a[\"eat\"].drop_duplicates(keep='first').tolist()\n",
    "\n",
    "athletes = pd.concat([athletes, pd.crosstab(a.index, a[\"eat\"])[cols]], axis=1)\n",
    "\n",
    "athletes.drop('eat', axis=1, inplace=True)  "
   ]
  },
  {
   "cell_type": "code",
   "execution_count": 29,
   "id": "85e9e9dc",
   "metadata": {},
   "outputs": [],
   "source": [
    "def PipeKNN(neighbors=1):\n",
    "    return make_pipeline(StandardScaler(),\n",
    "                         KNeighborsRegressor(n_neighbors=neighbors))"
   ]
  },
  {
   "cell_type": "code",
   "execution_count": 30,
   "id": "71a5e367",
   "metadata": {},
   "outputs": [],
   "source": [
    "athletes = athletes.astype({'region': 'category', \n",
    "                            'team': 'category', \n",
    "                            'gender': 'category',  \n",
    "                            'affiliate': 'category'})"
   ]
  },
  {
   "cell_type": "code",
   "execution_count": 31,
   "id": "ccfbcb70",
   "metadata": {},
   "outputs": [],
   "source": [
    "categorical_cols = ['region', 'team', 'gender', 'affiliate','howlong'] \n",
    "df_with_dummies = pd.get_dummies(athletes, columns = categorical_cols)"
   ]
  },
  {
   "cell_type": "code",
   "execution_count": null,
   "id": "32f17a87",
   "metadata": {},
   "outputs": [],
   "source": [
    "#list(df_with_dummies.columns)"
   ]
  },
  {
   "cell_type": "code",
   "execution_count": 32,
   "id": "57b1d4a6",
   "metadata": {},
   "outputs": [],
   "source": [
    "# The knn process works the same for males or females, or both\n",
    "# We were curious to see if you could predict better based on if the data was subsetted based on gender or not\n",
    "# But they turned out to have very similar rmse\n",
    "is_female =  df_with_dummies['gender_Female']==1\n",
    "df_with_dummies_female = df_with_dummies[is_female]\n",
    "test_column = 'run400'"
   ]
  },
  {
   "cell_type": "code",
   "execution_count": 33,
   "id": "be6465fe",
   "metadata": {},
   "outputs": [],
   "source": [
    "y = df_with_dummies_female[\"rank\"].to_numpy()"
   ]
  },
  {
   "cell_type": "code",
   "execution_count": 34,
   "id": "83f2ad2c",
   "metadata": {},
   "outputs": [],
   "source": [
    "X = df_with_dummies_female.drop(columns = ['athlete_id','name','year','rank','retrieved_datetime_y','retrieved_datetime_x','division'])\n",
    "# drop division because everyone is in division 1 for males or females\n"
   ]
  },
  {
   "cell_type": "code",
   "execution_count": 35,
   "id": "fdd203f5",
   "metadata": {},
   "outputs": [],
   "source": [
    "# This defines a function that is able to run the knn test based on a single column like 'pullups' or 'fran'\n",
    "# simply call the function with the column in quotes that you want, full_knn('fran')\n",
    "\n",
    "# It will output two graphs.\n",
    "# First graph is the points of the run400 values in regards to their rank,\n",
    "# The second graph is the rmse values for each value of the number of neighbors\n",
    "# up until the best parameter number of neighbors from the grid search.\n",
    "\n",
    "def full_knn(test_column):\n",
    "    X_1 = X[[test_column]]\n",
    "    X_train, X_test, y_train, y_test = train_test_split(X_1, y, test_size = .3, random_state=801)\n",
    "    X_train.reset_index()\n",
    "\n",
    "    pipe = PipeKNN(1)\n",
    "    pipe.fit(X_train,y_train)\n",
    "    sns.scatterplot(x=X_train[test_column], y=y_train)\n",
    "\n",
    "    param_grid = [{'kneighborsregressor__n_neighbors': list(np.arange(1,50))}] \n",
    "    gs = GridSearchCV(pipe, param_grid, scoring='neg_mean_squared_error')\n",
    "    gs.fit(X_train, y_train)\n",
    "\n",
    "    best_neighbor_n = gs.best_params_['kneighborsregressor__n_neighbors']\n",
    "    pipe = PipeKNN(best_neighbor_n)\n",
    "    \n",
    "    pipe.fit(X_train,y_train)\n",
    "    sns.scatterplot(x=X_train[test_column], y=y_train)\n",
    "    \n",
    "    X_plot = pd.DataFrame(np.linspace(min(X_train[test_column]),max(X_train[test_column]),5000), columns=[test_column])\n",
    "\n",
    "    g = sns.lineplot(x=X_plot[test_column], y=pipe.predict(X_plot), color='blue')\n",
    "    g.set(xlim=(min(X_train[test_column]), max(X_train[test_column])))\n",
    "    \n",
    "    rmse_val = [] #to store rmse values for different k\n",
    "    \n",
    "    best_k = gs.best_params_['kneighborsregressor__n_neighbors']\n",
    "    \n",
    "    for K in range(0, best_k):\n",
    "        K = K+1\n",
    "        model = KNeighborsRegressor(n_neighbors = K)\n",
    "\n",
    "        model.fit(X_train, y_train)  #fit the model\n",
    "        pred=model.predict(X_test) #make prediction on test set\n",
    "        error = sqrt(mean_squared_error(y_test,pred)) #calculate rmse\n",
    "        rmse_val.append(error) #store rmse values\n",
    "        #print('RMSE value for k=' , K , 'is:', error)\n",
    "\n",
    "    curve = pd.DataFrame(rmse_val) #elbow curve \n",
    "    curve.plot()\n",
    "    \n",
    "    return gs.best_params_['kneighborsregressor__n_neighbors']\n",
    "    "
   ]
  },
  {
   "cell_type": "code",
   "execution_count": 36,
   "id": "d548b50f",
   "metadata": {},
   "outputs": [
    {
     "data": {
      "text/plain": [
       "9"
      ]
     },
     "execution_count": 36,
     "metadata": {},
     "output_type": "execute_result"
    },
    {
     "data": {
      "image/png": "[encoded data removed]",
      "text/plain": [
       "<Figure size 432x288 with 1 Axes>"
      ]
     },
     "metadata": {
      "needs_background": "light"
     },
     "output_type": "display_data"
    },
    {
     "data": {
      "image/png": "[encoded data removed]",
      "text/plain": [
       "<Figure size 432x288 with 1 Axes>"
      ]
     },
     "metadata": {
      "needs_background": "light"
     },
     "output_type": "display_data"
    }
   ],
   "source": [
    "full_knn('run400')"
   ]
  },
  {
   "cell_type": "code",
   "execution_count": null,
   "id": "43015b04",
   "metadata": {},
   "outputs": [],
   "source": [
    "full_knn('backsq')\n"
   ]
  },
  {
   "cell_type": "code",
   "execution_count": null,
   "id": "baf14e80",
   "metadata": {},
   "outputs": [],
   "source": [
    "#full_knn('helen')"
   ]
  },
  {
   "cell_type": "code",
   "execution_count": 39,
   "id": "aa3a5772",
   "metadata": {},
   "outputs": [
    {
     "data": {
      "text/plain": [
       "3"
      ]
     },
     "execution_count": 39,
     "metadata": {},
     "output_type": "execute_result"
    },
    {
     "data": {
      "image/png": "[encoded data removed]",
      "text/plain": [
       "<Figure size 432x288 with 1 Axes>"
      ]
     },
     "metadata": {
      "needs_background": "light"
     },
     "output_type": "display_data"
    },
    {
     "data": {
      "image/png": "[encoded data removed]",
      "text/plain": [
       "<Figure size 432x288 with 1 Axes>"
      ]
     },
     "metadata": {
      "needs_background": "light"
     },
     "output_type": "display_data"
    }
   ],
   "source": [
    "full_knn('fran')"
   ]
  },
  {
   "cell_type": "code",
   "execution_count": null,
   "id": "f83695d5",
   "metadata": {},
   "outputs": [],
   "source": [
    "full_knn('run5k')"
   ]
  },
  {
   "cell_type": "code",
   "execution_count": 40,
   "id": "1db0a807",
   "metadata": {},
   "outputs": [
    {
     "data": {
      "text/plain": [
       "22"
      ]
     },
     "execution_count": 40,
     "metadata": {},
     "output_type": "execute_result"
    },
    {
     "data": {
      "image/png": "[encoded data removed]",
      "text/plain": [
       "<Figure size 432x288 with 1 Axes>"
      ]
     },
     "metadata": {
      "needs_background": "light"
     },
     "output_type": "display_data"
    },
    {
     "data": {
      "image/png": "[encoded data removed]",
      "text/plain": [
       "<Figure size 432x288 with 1 Axes>"
      ]
     },
     "metadata": {
      "needs_background": "light"
     },
     "output_type": "display_data"
    }
   ],
   "source": [
    "full_knn('candj')"
   ]
  },
  {
   "cell_type": "code",
   "execution_count": null,
   "id": "2db659f6",
   "metadata": {},
   "outputs": [],
   "source": [
    "#full_knn('weight')\n",
    "# Doesn't show a trend"
   ]
  },
  {
   "cell_type": "code",
   "execution_count": null,
   "id": "fba51f9b",
   "metadata": {},
   "outputs": [],
   "source": [
    "#full_knn('age')\n",
    "# Doesn't show a trend"
   ]
  },
  {
   "cell_type": "code",
   "execution_count": null,
   "id": "4b510b51",
   "metadata": {},
   "outputs": [],
   "source": [
    "full_knn('deadlift')"
   ]
  },
  {
   "cell_type": "code",
   "execution_count": null,
   "id": "70c5e768",
   "metadata": {},
   "outputs": [],
   "source": [
    "full_knn('filthy50')"
   ]
  },
  {
   "cell_type": "code",
   "execution_count": 43,
   "id": "deff316f",
   "metadata": {},
   "outputs": [
    {
     "name": "stdout",
     "output_type": "stream",
     "text": [
      "Subsetted for Females\n",
      "Using a Subset of Predictors\n",
      "(helen, grace, fran, pullups, backsq)\n",
      "RMSE value for k=  1 is: 9395.920559172779\n",
      "RMSE value for k=  2 is: 8575.53695869827\n",
      "RMSE value for k=  3 is: 8540.001788762313\n",
      "RMSE value for k=  4 is: 8731.259711601102\n",
      "RMSE value for k=  5 is: 8793.397297323227\n",
      "RMSE value for k=  6 is: 8875.190864614313\n",
      "RMSE value for k=  7 is: 9113.389010991245\n",
      "RMSE value for k=  8 is: 9342.641684516637\n",
      "RMSE value for k=  9 is: 9503.661475263212\n",
      "RMSE value for k=  10 is: 9765.89590979021\n",
      "RMSE value for k=  11 is: 9928.887020355061\n",
      "RMSE value for k=  12 is: 10047.000870761549\n",
      "RMSE value for k=  13 is: 10030.916644106577\n",
      "RMSE value for k=  14 is: 10075.916774985944\n",
      "RMSE value for k=  15 is: 10206.900904823604\n",
      "RMSE value for k=  16 is: 10285.728536363438\n",
      "RMSE value for k=  17 is: 10328.42198677636\n",
      "RMSE value for k=  18 is: 10332.867983320173\n",
      "RMSE value for k=  19 is: 10340.001570117274\n",
      "RMSE value for k=  20 is: 10355.815624218458\n"
     ]
    },
    {
     "data": {
      "text/plain": [
       "<AxesSubplot:>"
      ]
     },
     "execution_count": 43,
     "metadata": {},
     "output_type": "execute_result"
    },
    {
     "data": {
      "image/png": "[encoded data removed]",
      "text/plain": [
       "<Figure size 432x288 with 1 Axes>"
      ]
     },
     "metadata": {
      "needs_background": "light"
     },
     "output_type": "display_data"
    }
   ],
   "source": [
    "# Different approaches to subset the data to use different\n",
    "# columns to train and test on\n",
    "\n",
    "# Use this if you want to subset by the column number\n",
    "#df1 = X.iloc[:, ]\n",
    "\n",
    "# Use this if you want to subset by column names\n",
    "cols = ['helen','grace','fran','pullups', 'backsq']\n",
    "df1 = X[cols]\n",
    "#df1.head()\n",
    "X_train, X_test, y_train, y_test = train_test_split(df1, y, test_size = .3, random_state=801)\n",
    "X_train.reset_index()\n",
    "\n",
    "print(\"Subsetted for Females\")\n",
    "print(\"Using a Subset of Predictors\")\n",
    "print(\"(helen, grace, fran, pullups, backsq)\")\n",
    "\n",
    "rmse_val = [] #to store rmse values for different k\n",
    "for K in range(20):\n",
    "    K = K+1\n",
    "    model = KNeighborsRegressor(n_neighbors = K)\n",
    "\n",
    "    model.fit(X_train, y_train)  #fit the model\n",
    "    pred=model.predict(X_test) #make prediction on test set\n",
    "    error = sqrt(mean_squared_error(y_test,pred)) #calculate rmse\n",
    "    rmse_val.append(error) #store rmse values\n",
    "    print('RMSE value for k= ' , K , 'is:', error)\n",
    "    \n",
    "curve = pd.DataFrame(rmse_val) #elbow curve \n",
    "curve.plot()"
   ]
  },
  {
   "cell_type": "code",
   "execution_count": null,
   "id": "f54b00da",
   "metadata": {},
   "outputs": [],
   "source": []
  },
  {
   "cell_type": "code",
   "execution_count": null,
   "id": "83fb0640",
   "metadata": {},
   "outputs": [],
   "source": []
  },
  {
   "cell_type": "code",
   "execution_count": null,
   "id": "fcf85572",
   "metadata": {},
   "outputs": [],
   "source": [
    "# Extra Code"
   ]
  },
  {
   "cell_type": "code",
   "execution_count": null,
   "id": "7d5f2054",
   "metadata": {},
   "outputs": [],
   "source": [
    "# This code chunk allows you to select which columns\n",
    "# you would like the knn to be trained on to predict\n",
    "# and then it will use a for loop to iterate through\n",
    "# the different values of nearest neighbors from 1-10\n",
    "num_neighbors = 10\n",
    "#candj, fran, filthy50\n",
    "#cols = ['helen','grace','fran']\n",
    "#df1 = X.iloc[:, ]\n",
    "#df1 = X[cols]\n",
    "#df1.head()\n",
    "X_train, X_test, y_train, y_test = train_test_split(X, y, test_size = .3, random_state=801)\n",
    "X_train.reset_index()\n",
    "\n",
    "acc_val = [] #to store accuracy values for different L\n",
    "for N in range(num_neighbors):\n",
    "    N = N+1\n",
    "    pipe = PipeKNN(N)\n",
    "    pipe.fit(X_train,y_train)\n",
    "    print('Score:', pipe.score(X_test, y_test), ' N:', N)\n",
    "    acc_val.append(pipe.score(X_test, y_test)) #store accuracy values\n",
    "\n",
    "#param_grid = [{'kneighborsregressor__n_neighbors': list(np.arange(1,50))}] \n",
    "#gs = GridSearchCV(pipe, param_grid, scoring='neg_mean_squared_error')\n",
    "#gs.fit(X_train, y_train)\n",
    "print(gs.best_params_)\n",
    "\n",
    "\n",
    "# Some of the best results for accuracy (still fairly low)\n",
    "# First 100 columns - Score: 0.5433629491409262, L: 4\n",
    "\n",
    "# cols = ['candj', 'fran', 'filthy50'],\n",
    "# Score: 0.561768090617294  N: 5\n",
    "\n",
    "# cols = ['helen','grace','fran']\n",
    "# Score: 0.5623927641302024  N: 5\n",
    "\n",
    "\n"
   ]
  }
 ],
 "metadata": {
  "kernelspec": {
   "display_name": "Python 3 (ipykernel)",
   "language": "python",
   "name": "python3"
  },
  "language_info": {
   "codemirror_mode": {
    "name": "ipython",
    "version": 3
   },
   "file_extension": ".py",
   "mimetype": "text/x-python",
   "name": "python",
   "nbconvert_exporter": "python",
   "pygments_lexer": "ipython3",
   "version": "3.9.2"
  }
 },
 "nbformat": 4,
 "nbformat_minor": 5
}
