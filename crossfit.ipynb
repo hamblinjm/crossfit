{
 "cells": [
  {
   "cell_type": "code",
   "execution_count": 1,
   "id": "7640f92f",
   "metadata": {},
   "outputs": [],
   "source": [
    "import pandas as pd"
   ]
  },
  {
   "cell_type": "code",
   "execution_count": 3,
   "id": "4109869a",
   "metadata": {},
   "outputs": [
    {
     "name": "stderr",
     "output_type": "stream",
     "text": [
      "c:\\users\\hambl\\appdata\\local\\programs\\python\\python39\\lib\\site-packages\\IPython\\core\\interactiveshell.py:3441: DtypeWarning: Columns (27) have mixed types.Specify dtype option on import or set low_memory=False.\n",
      "  exec(code_obj, self.user_global_ns, self.user_ns)\n"
     ]
    },
    {
     "data": {
      "text/plain": [
       "0                                                       NaN\n",
       "1                                                       NaN\n",
       "2                                                       NaN\n",
       "3                      I eat 1-3 full cheat meals per week|\n",
       "4         I eat quality foods but don't measure the amount|\n",
       "                                ...                        \n",
       "423001                                                  NaN\n",
       "423002                                                  NaN\n",
       "423003                                                  NaN\n",
       "423004    I eat quality foods but don't measure the amount|\n",
       "423005                                                  NaN\n",
       "Name: eat, Length: 423006, dtype: object"
      ]
     },
     "execution_count": 3,
     "metadata": {},
     "output_type": "execute_result"
    }
   ],
   "source": [
    "athletes = pd.read_csv(\"bgadoci-crossfit-data/athletes.csv\")\n",
    "athletes.eat"
   ]
  },
  {
   "cell_type": "code",
   "execution_count": 4,
   "id": "aecb4a8a",
   "metadata": {},
   "outputs": [
    {
     "data": {
      "text/plain": [
       "array([nan, 'I eat 1-3 full cheat meals per week|',\n",
       "       \"I eat quality foods but don't measure the amount|\",\n",
       "       'I eat strict Paleo|',\n",
       "       \"I eat quality foods but don't measure the amount|I eat 1-3 full cheat meals per week|\",\n",
       "       'I eat whatever is convenient|',\n",
       "       \"I eat strict Paleo|I eat quality foods but don't measure the amount|\",\n",
       "       'I eat strict Paleo|I eat 1-3 full cheat meals per week|',\n",
       "       \"I eat quality foods but don't measure the amount|I eat whatever is convenient|I eat 1-3 full cheat meals per week|\",\n",
       "       \"I eat quality foods but don't measure the amount|I eat whatever is convenient|\",\n",
       "       'I eat whatever is convenient|I eat 1-3 full cheat meals per week|',\n",
       "       'Decline to answer|', 'I weigh and measure my food|',\n",
       "       'I weigh and measure my food|I eat strict Paleo|I eat 1-3 full cheat meals per week|',\n",
       "       'I weigh and measure my food|I eat 1-3 full cheat meals per week|',\n",
       "       \"I eat strict Paleo|I eat quality foods but don't measure the amount|I eat 1-3 full cheat meals per week|\",\n",
       "       'I weigh and measure my food|I eat strict Paleo|',\n",
       "       \"I weigh and measure my food|I eat quality foods but don't measure the amount|I eat 1-3 full cheat meals per week|\",\n",
       "       'I weigh and measure my food|I eat whatever is convenient|I eat 1-3 full cheat meals per week|',\n",
       "       \"I weigh and measure my food|I eat strict Paleo|I eat quality foods but don't measure the amount|I eat whatever is convenient|I eat 1-3 full cheat meals per week|\",\n",
       "       \"I weigh and measure my food|I eat quality foods but don't measure the amount|\",\n",
       "       'I eat strict Paleo|I eat whatever is convenient|',\n",
       "       \"I eat strict Paleo|I eat quality foods but don't measure the amount|I eat whatever is convenient|\",\n",
       "       \"I weigh and measure my food|I eat strict Paleo|I eat quality foods but don't measure the amount|\",\n",
       "       \"I weigh and measure my food|I eat quality foods but don't measure the amount|I eat whatever is convenient|I eat 1-3 full cheat meals per week|\",\n",
       "       \"I eat quality foods but don't measure the amount|I eat 1-3 full cheat meals per week|Decline to answer|\",\n",
       "       \"I eat strict Paleo|I eat quality foods but don't measure the amount|I eat whatever is convenient|I eat 1-3 full cheat meals per week|\",\n",
       "       \"I eat quality foods but don't measure the amount|Decline to answer|\",\n",
       "       'I weigh and measure my food|I eat whatever is convenient|',\n",
       "       'I weigh and measure my food|Decline to answer|',\n",
       "       'I weigh and measure my food|I eat strict Paleo|I eat whatever is convenient|I eat 1-3 full cheat meals per week|',\n",
       "       \"I weigh and measure my food|I eat strict Paleo|I eat quality foods but don't measure the amount|I eat 1-3 full cheat meals per week|\",\n",
       "       \"I eat quality foods but don't measure the amount|I eat whatever is convenient|I eat 1-3 full cheat meals per week|Decline to answer|\",\n",
       "       'I eat whatever is convenient|Decline to answer|',\n",
       "       \"I weigh and measure my food|I eat quality foods but don't measure the amount|I eat whatever is convenient|\",\n",
       "       'I eat strict Paleo|I eat whatever is convenient|I eat 1-3 full cheat meals per week|',\n",
       "       \"I weigh and measure my food|I eat strict Paleo|I eat quality foods but don't measure the amount|I eat whatever is convenient|I eat 1-3 full cheat meals per week|Decline to answer|\",\n",
       "       \"I eat strict Paleo|I eat quality foods but don't measure the amount|I eat 1-3 full cheat meals per week|Decline to answer|\",\n",
       "       \"I weigh and measure my food|I eat quality foods but don't measure the amount|Decline to answer|\",\n",
       "       'I eat 1-3 full cheat meals per week|Decline to answer|',\n",
       "       'I weigh and measure my food|I eat strict Paleo|I eat whatever is convenient|',\n",
       "       'I weigh and measure my food|I eat 1-3 full cheat meals per week|Decline to answer|',\n",
       "       \"I weigh and measure my food|I eat strict Paleo|I eat quality foods but don't measure the amount|I eat 1-3 full cheat meals per week|Decline to answer|\",\n",
       "       \"I eat quality foods but don't measure the amount|I eat whatever is convenient|Decline to answer|\",\n",
       "       'I eat strict Paleo|Decline to answer|',\n",
       "       'I eat strict Paleo|I eat 1-3 full cheat meals per week|Decline to answer|',\n",
       "       'I eat whatever is convenient|I eat 1-3 full cheat meals per week|Decline to answer|',\n",
       "       \"I weigh and measure my food|I eat strict Paleo|I eat quality foods but don't measure the amount|I eat whatever is convenient|\"],\n",
       "      dtype=object)"
      ]
     },
     "execution_count": 4,
     "metadata": {},
     "output_type": "execute_result"
    }
   ],
   "source": [
    "athletes.eat.unique()"
   ]
  }
 ],
 "metadata": {
  "kernelspec": {
   "display_name": "Python 3 (ipykernel)",
   "language": "python",
   "name": "python3"
  },
  "language_info": {
   "codemirror_mode": {
    "name": "ipython",
    "version": 3
   },
   "file_extension": ".py",
   "mimetype": "text/x-python",
   "name": "python",
   "nbconvert_exporter": "python",
   "pygments_lexer": "ipython3",
   "version": "3.9.1"
  }
 },
 "nbformat": 4,
 "nbformat_minor": 5
}
